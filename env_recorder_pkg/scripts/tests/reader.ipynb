{
 "cells": [
  {
   "cell_type": "code",
   "execution_count": 2,
   "metadata": {},
   "outputs": [],
   "source": [
    "import numpy as np\n",
    "import bagpy\n",
    "from bagpy import bagreader\n",
    "import pandas as pd\n"
   ]
  },
  {
   "cell_type": "code",
   "execution_count": 3,
   "metadata": {},
   "outputs": [
    {
     "name": "stdout",
     "output_type": "stream",
     "text": [
      "[INFO]  Successfully created the data folder /home/zion/catkin_ws/src/ros_env_prediction/env_recorder_pkg/bag/bag_2022-10-11-09-23-03.\n"
     ]
    }
   ],
   "source": [
    "b = bagreader('/home/zion/catkin_ws/src/ros_env_prediction/env_recorder_pkg/bag/bag_2022-10-11-09-23-03.bag')"
   ]
  },
  {
   "cell_type": "code",
   "execution_count": 5,
   "metadata": {},
   "outputs": [
    {
     "data": {
      "text/html": [
       "<div>\n",
       "<style scoped>\n",
       "    .dataframe tbody tr th:only-of-type {\n",
       "        vertical-align: middle;\n",
       "    }\n",
       "\n",
       "    .dataframe tbody tr th {\n",
       "        vertical-align: top;\n",
       "    }\n",
       "\n",
       "    .dataframe thead th {\n",
       "        text-align: right;\n",
       "    }\n",
       "</style>\n",
       "<table border=\"1\" class=\"dataframe\">\n",
       "  <thead>\n",
       "    <tr style=\"text-align: right;\">\n",
       "      <th></th>\n",
       "      <th>Topics</th>\n",
       "      <th>Types</th>\n",
       "      <th>Message Count</th>\n",
       "      <th>Frequency</th>\n",
       "    </tr>\n",
       "  </thead>\n",
       "  <tbody>\n",
       "    <tr>\n",
       "      <th>0</th>\n",
       "      <td>/zedm/zed_node/imu/data</td>\n",
       "      <td>sensor_msgs/Imu</td>\n",
       "      <td>2608</td>\n",
       "      <td>200.655600</td>\n",
       "    </tr>\n",
       "    <tr>\n",
       "      <th>1</th>\n",
       "      <td>/zedm/zed_node/left/image_rect_gray</td>\n",
       "      <td>sensor_msgs/Image</td>\n",
       "      <td>196</td>\n",
       "      <td>15.003073</td>\n",
       "    </tr>\n",
       "  </tbody>\n",
       "</table>\n",
       "</div>"
      ],
      "text/plain": [
       "                                Topics              Types  Message Count  \\\n",
       "0              /zedm/zed_node/imu/data    sensor_msgs/Imu           2608   \n",
       "1  /zedm/zed_node/left/image_rect_gray  sensor_msgs/Image            196   \n",
       "\n",
       "    Frequency  \n",
       "0  200.655600  \n",
       "1   15.003073  "
      ]
     },
     "execution_count": 5,
     "metadata": {},
     "output_type": "execute_result"
    }
   ],
   "source": [
    "b.topic_table"
   ]
  },
  {
   "cell_type": "code",
   "execution_count": 6,
   "metadata": {},
   "outputs": [
    {
     "data": {
      "text/plain": [
       "[200.65559967468783, 15.003072652675783]"
      ]
     },
     "execution_count": 6,
     "metadata": {},
     "output_type": "execute_result"
    }
   ],
   "source": [
    "b.frequency"
   ]
  },
  {
   "cell_type": "code",
   "execution_count": 60,
   "metadata": {},
   "outputs": [
    {
     "data": {
      "text/plain": [
       "'/home/zion/catkin_ws/src/ros_env_prediction/env_recorder_pkg/bag/bag_2022-10-11-09-23-03/zedm-zed_node-imu-data.csv'"
      ]
     },
     "execution_count": 60,
     "metadata": {},
     "output_type": "execute_result"
    }
   ],
   "source": [
    "imu = b.message_by_topic('/zedm/zed_node/imu/data')\n",
    "imu"
   ]
  },
  {
   "cell_type": "code",
   "execution_count": 61,
   "metadata": {},
   "outputs": [
    {
     "data": {
      "text/plain": [
       "0       0.015440\n",
       "1       0.015405\n",
       "2       0.015379\n",
       "3       0.015402\n",
       "4       0.015442\n",
       "          ...   \n",
       "2603    0.016222\n",
       "2604    0.016322\n",
       "2605    0.016405\n",
       "2606    0.016458\n",
       "2607    0.016514\n",
       "Name: orientation.x, Length: 2608, dtype: float64"
      ]
     },
     "execution_count": 61,
     "metadata": {},
     "output_type": "execute_result"
    }
   ],
   "source": [
    "df_imu = pd.read_csv(imu)\n",
    "df_imu\n",
    "df_imu['orientation.x']\n"
   ]
  },
  {
   "cell_type": "code",
   "execution_count": 62,
   "metadata": {},
   "outputs": [
    {
     "data": {
      "text/plain": [
       "'/home/zion/catkin_ws/src/ros_env_prediction/env_recorder_pkg/bag/bag_2022-10-11-09-23-03/zedm-zed_node-left-image_rect_gray.csv'"
      ]
     },
     "execution_count": 62,
     "metadata": {},
     "output_type": "execute_result"
    }
   ],
   "source": [
    "depth = b.message_by_topic('/zedm/zed_node/left/image_rect_gray')\n",
    "depth"
   ]
  },
  {
   "cell_type": "code",
   "execution_count": 63,
   "metadata": {},
   "outputs": [],
   "source": [
    "df_depth = pd.read_csv(depth)"
   ]
  },
  {
   "cell_type": "code",
   "execution_count": 66,
   "metadata": {},
   "outputs": [
    {
     "data": {
      "text/plain": [
       "0      b'\\x06\\x06\\x08\\x07\\x05\\x06\\x04\\x05\\x04\\x05\\x04...\n",
       "1      b'\\x04\\x04\\x03\\x08\\x06\\x05\\x04\\x02\\x03\\x04\\x04...\n",
       "2      b'\\x04\\x03\\x03\\x03\\x04\\x05\\x05\\x05\\x04\\x05\\x05...\n",
       "3      b'\\x05\\x04\\x05\\x04\\x03\\x04\\x02\\x03\\x02\\x02\\x02...\n",
       "4      b'\\x03\\x04\\x04\\x03\\x04\\x03\\x03\\x05\\x03\\x05\\x04...\n",
       "                             ...                        \n",
       "191    b'\\x02\\x02\\x03\\x04\\x03\\x03\\x04\\x03\\x04\\x04\\x05...\n",
       "192    b'\\x04\\x03\\x04\\x05\\x05\\x05\\x03\\x04\\x05\\x03\\x04...\n",
       "193    b'\\x05\\x06\\x06\\x07\\x03\\x06\\x05\\x05\\x05\\x05\\x05...\n",
       "194    b'\\x05\\x05\\x05\\x07\\x06\\x05\\x07\\x04\\x05\\x05\\x03...\n",
       "195    b'\\x04\\x03\\x04\\x04\\x04\\x03\\x03\\x03\\x02\\x04\\x02...\n",
       "Name: data, Length: 196, dtype: object"
      ]
     },
     "execution_count": 66,
     "metadata": {},
     "output_type": "execute_result"
    }
   ],
   "source": []
  }
 ],
 "metadata": {
  "kernelspec": {
   "display_name": "Python 3.7.5 ('py3.7_venv')",
   "language": "python",
   "name": "python3"
  },
  "language_info": {
   "codemirror_mode": {
    "name": "ipython",
    "version": 3
   },
   "file_extension": ".py",
   "mimetype": "text/x-python",
   "name": "python",
   "nbconvert_exporter": "python",
   "pygments_lexer": "ipython3",
   "version": "3.7.5"
  },
  "orig_nbformat": 4,
  "vscode": {
   "interpreter": {
    "hash": "a3f62984b557dfebb9a6ed470f0035b11ea8662d92a56e2f92ed218ee40b338e"
   }
  }
 },
 "nbformat": 4,
 "nbformat_minor": 2
}
