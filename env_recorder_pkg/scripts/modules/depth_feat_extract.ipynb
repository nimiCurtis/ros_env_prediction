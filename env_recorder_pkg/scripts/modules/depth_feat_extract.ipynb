{
 "cells": [
  {
   "cell_type": "code",
   "execution_count": 1,
   "metadata": {},
   "outputs": [
    {
     "name": "stderr",
     "output_type": "stream",
     "text": [
      "Failed to load Python extension for LZ4 support. LZ4 compression will not be available.\n"
     ]
    }
   ],
   "source": [
    "import cv2\n",
    "from bag_reader.bag_reader import READER\n",
    "import numpy as np\n",
    "import pandas as pd "
   ]
  },
  {
   "cell_type": "code",
   "execution_count": 3,
   "metadata": {},
   "outputs": [
    {
     "name": "stdout",
     "output_type": "stream",
     "text": [
      "[INFO]  Data folder /home/zion/catkin_ws/src/ros_env_prediction/env_recorder_pkg/bag/2022-11-06-15-43-58 already exists. Not creating.\n"
     ]
    }
   ],
   "source": [
    "data = READER('/home/zion/catkin_ws/src/ros_env_prediction/env_recorder_pkg/bag/2022-11-06-15-43-58.bag')\n",
    "data.read()\n",
    "\n"
   ]
  },
  {
   "cell_type": "code",
   "execution_count": 4,
   "metadata": {},
   "outputs": [
    {
     "data": {
      "text/html": [
       "<div>\n",
       "<style scoped>\n",
       "    .dataframe tbody tr th:only-of-type {\n",
       "        vertical-align: middle;\n",
       "    }\n",
       "\n",
       "    .dataframe tbody tr th {\n",
       "        vertical-align: top;\n",
       "    }\n",
       "\n",
       "    .dataframe thead th {\n",
       "        text-align: right;\n",
       "    }\n",
       "</style>\n",
       "<table border=\"1\" class=\"dataframe\">\n",
       "  <thead>\n",
       "    <tr style=\"text-align: right;\">\n",
       "      <th></th>\n",
       "      <th>Unnamed: 0</th>\n",
       "      <th>Time</th>\n",
       "      <th>header.seq</th>\n",
       "      <th>header.stamp.secs</th>\n",
       "      <th>header.stamp.nsecs</th>\n",
       "      <th>header.frame_id</th>\n",
       "      <th>height</th>\n",
       "      <th>width</th>\n",
       "      <th>encoding</th>\n",
       "      <th>is_bigendian</th>\n",
       "      <th>step</th>\n",
       "      <th>frame_path</th>\n",
       "      <th>np_path</th>\n",
       "    </tr>\n",
       "  </thead>\n",
       "  <tbody>\n",
       "    <tr>\n",
       "      <th>0</th>\n",
       "      <td>0</td>\n",
       "      <td>1.667742e+09</td>\n",
       "      <td>1495</td>\n",
       "      <td>1667742238</td>\n",
       "      <td>547671658</td>\n",
       "      <td>zedm_left_camera_optical_frame</td>\n",
       "      <td>360</td>\n",
       "      <td>640</td>\n",
       "      <td>32FC1</td>\n",
       "      <td>0</td>\n",
       "      <td>2560</td>\n",
       "      <td>/home/zion/catkin_ws/src/ros_env_prediction/en...</td>\n",
       "      <td>/home/zion/catkin_ws/src/ros_env_prediction/en...</td>\n",
       "    </tr>\n",
       "    <tr>\n",
       "      <th>1</th>\n",
       "      <td>1</td>\n",
       "      <td>1.667742e+09</td>\n",
       "      <td>1496</td>\n",
       "      <td>1667742238</td>\n",
       "      <td>681184658</td>\n",
       "      <td>zedm_left_camera_optical_frame</td>\n",
       "      <td>360</td>\n",
       "      <td>640</td>\n",
       "      <td>32FC1</td>\n",
       "      <td>0</td>\n",
       "      <td>2560</td>\n",
       "      <td>/home/zion/catkin_ws/src/ros_env_prediction/en...</td>\n",
       "      <td>/home/zion/catkin_ws/src/ros_env_prediction/en...</td>\n",
       "    </tr>\n",
       "    <tr>\n",
       "      <th>2</th>\n",
       "      <td>2</td>\n",
       "      <td>1.667742e+09</td>\n",
       "      <td>1497</td>\n",
       "      <td>1667742238</td>\n",
       "      <td>747685658</td>\n",
       "      <td>zedm_left_camera_optical_frame</td>\n",
       "      <td>360</td>\n",
       "      <td>640</td>\n",
       "      <td>32FC1</td>\n",
       "      <td>0</td>\n",
       "      <td>2560</td>\n",
       "      <td>/home/zion/catkin_ws/src/ros_env_prediction/en...</td>\n",
       "      <td>/home/zion/catkin_ws/src/ros_env_prediction/en...</td>\n",
       "    </tr>\n",
       "    <tr>\n",
       "      <th>3</th>\n",
       "      <td>3</td>\n",
       "      <td>1.667742e+09</td>\n",
       "      <td>1498</td>\n",
       "      <td>1667742238</td>\n",
       "      <td>814443658</td>\n",
       "      <td>zedm_left_camera_optical_frame</td>\n",
       "      <td>360</td>\n",
       "      <td>640</td>\n",
       "      <td>32FC1</td>\n",
       "      <td>0</td>\n",
       "      <td>2560</td>\n",
       "      <td>/home/zion/catkin_ws/src/ros_env_prediction/en...</td>\n",
       "      <td>/home/zion/catkin_ws/src/ros_env_prediction/en...</td>\n",
       "    </tr>\n",
       "    <tr>\n",
       "      <th>4</th>\n",
       "      <td>4</td>\n",
       "      <td>1.667742e+09</td>\n",
       "      <td>1499</td>\n",
       "      <td>1667742238</td>\n",
       "      <td>884177658</td>\n",
       "      <td>zedm_left_camera_optical_frame</td>\n",
       "      <td>360</td>\n",
       "      <td>640</td>\n",
       "      <td>32FC1</td>\n",
       "      <td>0</td>\n",
       "      <td>2560</td>\n",
       "      <td>/home/zion/catkin_ws/src/ros_env_prediction/en...</td>\n",
       "      <td>/home/zion/catkin_ws/src/ros_env_prediction/en...</td>\n",
       "    </tr>\n",
       "  </tbody>\n",
       "</table>\n",
       "</div>"
      ],
      "text/plain": [
       "   Unnamed: 0          Time  header.seq  header.stamp.secs  \\\n",
       "0           0  1.667742e+09        1495         1667742238   \n",
       "1           1  1.667742e+09        1496         1667742238   \n",
       "2           2  1.667742e+09        1497         1667742238   \n",
       "3           3  1.667742e+09        1498         1667742238   \n",
       "4           4  1.667742e+09        1499         1667742238   \n",
       "\n",
       "   header.stamp.nsecs                 header.frame_id  height  width encoding  \\\n",
       "0           547671658  zedm_left_camera_optical_frame     360    640    32FC1   \n",
       "1           681184658  zedm_left_camera_optical_frame     360    640    32FC1   \n",
       "2           747685658  zedm_left_camera_optical_frame     360    640    32FC1   \n",
       "3           814443658  zedm_left_camera_optical_frame     360    640    32FC1   \n",
       "4           884177658  zedm_left_camera_optical_frame     360    640    32FC1   \n",
       "\n",
       "   is_bigendian  step                                         frame_path  \\\n",
       "0             0  2560  /home/zion/catkin_ws/src/ros_env_prediction/en...   \n",
       "1             0  2560  /home/zion/catkin_ws/src/ros_env_prediction/en...   \n",
       "2             0  2560  /home/zion/catkin_ws/src/ros_env_prediction/en...   \n",
       "3             0  2560  /home/zion/catkin_ws/src/ros_env_prediction/en...   \n",
       "4             0  2560  /home/zion/catkin_ws/src/ros_env_prediction/en...   \n",
       "\n",
       "                                             np_path  \n",
       "0  /home/zion/catkin_ws/src/ros_env_prediction/en...  \n",
       "1  /home/zion/catkin_ws/src/ros_env_prediction/en...  \n",
       "2  /home/zion/catkin_ws/src/ros_env_prediction/en...  \n",
       "3  /home/zion/catkin_ws/src/ros_env_prediction/en...  \n",
       "4  /home/zion/catkin_ws/src/ros_env_prediction/en...  "
      ]
     },
     "execution_count": 4,
     "metadata": {},
     "output_type": "execute_result"
    }
   ],
   "source": [
    "data.depth_df.head()"
   ]
  },
  {
   "cell_type": "code",
   "execution_count": 87,
   "metadata": {},
   "outputs": [
    {
     "name": "stdout",
     "output_type": "stream",
     "text": [
      "float32\n"
     ]
    },
    {
     "data": {
      "text/plain": [
       "array([[       nan,        nan,        nan, ..., 1.2538222 , 1.2525522 ,\n",
       "        1.2525487 ],\n",
       "       [       nan,        nan,        nan, ..., 1.2538303 , 1.2525504 ,\n",
       "        1.2525482 ],\n",
       "       [       nan,        nan,        nan, ..., 1.2516563 , 1.2507132 ,\n",
       "        1.250697  ],\n",
       "       ...,\n",
       "       [       nan,        nan,        nan, ..., 0.28433007, 0.28442386,\n",
       "        0.28442246],\n",
       "       [       nan,        nan,        nan, ..., 0.28437725, 0.28446653,\n",
       "        0.2844672 ],\n",
       "       [       nan,        nan,        nan, ..., 0.2843795 , 0.28446698,\n",
       "        0.28446802]], dtype=float32)"
      ]
     },
     "execution_count": 87,
     "metadata": {},
     "output_type": "execute_result"
    }
   ],
   "source": [
    "depth = np.load(data.depth_df.np_path[5])\n",
    "print(depth.dtype)\n",
    "depth\n",
    "\n"
   ]
  },
  {
   "cell_type": "code",
   "execution_count": 69,
   "metadata": {},
   "outputs": [
    {
     "data": {
      "text/plain": [
       "array([[254.99998, 254.99998, 254.99998, ..., 254.99998, 254.99998,\n",
       "        254.99998],\n",
       "       [254.99998, 254.99998, 254.99998, ..., 254.99998, 254.99998,\n",
       "        254.99998],\n",
       "       [254.99998, 254.99998, 254.99998, ..., 254.99998, 254.99998,\n",
       "        254.99998],\n",
       "       ...,\n",
       "       [254.99998, 254.99998, 254.99998, ..., 254.99998, 254.99998,\n",
       "        254.99998],\n",
       "       [254.99998, 254.99998, 254.99998, ..., 254.99998, 254.99998,\n",
       "        254.99998],\n",
       "       [254.99998, 254.99998, 254.99998, ..., 254.99998, 254.99998,\n",
       "        254.99998]], dtype=float32)"
      ]
     },
     "execution_count": 69,
     "metadata": {},
     "output_type": "execute_result"
    }
   ],
   "source": [
    "np.nan_to_num(depth,0)\n",
    "cv_img = data.get_depth_normalization(depth)\n",
    "cv_img"
   ]
  },
  {
   "cell_type": "code",
   "execution_count": 75,
   "metadata": {},
   "outputs": [
    {
     "data": {
      "text/plain": [
       "True"
      ]
     },
     "execution_count": 75,
     "metadata": {},
     "output_type": "execute_result"
    }
   ],
   "source": [
    "cv2.imwrite('somthing.jpg',depth)\n"
   ]
  },
  {
   "cell_type": "code",
   "execution_count": 73,
   "metadata": {},
   "outputs": [
    {
     "data": {
      "text/plain": [
       "array([[nan, nan, nan, ..., nan, nan, nan],\n",
       "       [nan, nan, nan, ..., nan, nan, nan],\n",
       "       [nan, nan, nan, ..., nan, nan, nan],\n",
       "       ...,\n",
       "       [nan, nan, nan, ..., nan, nan, nan],\n",
       "       [nan, nan, nan, ..., nan, nan, nan],\n",
       "       [nan, nan, nan, ..., nan, nan, nan]], dtype=float32)"
      ]
     },
     "execution_count": 73,
     "metadata": {},
     "output_type": "execute_result"
    }
   ],
   "source": [
    "cv_img = data.get_depth_normalization(depth)\n",
    "cv_img"
   ]
  },
  {
   "cell_type": "code",
   "execution_count": 88,
   "metadata": {},
   "outputs": [
    {
     "name": "stderr",
     "output_type": "stream",
     "text": [
      "/home/zion/py3.7_ws/py3.7_venv/lib/python3.7/site-packages/ipykernel_launcher.py:4: RuntimeWarning: overflow encountered in multiply\n",
      "  after removing the cwd from sys.path.\n"
     ]
    },
    {
     "data": {
      "text/plain": [
       "True"
      ]
     },
     "execution_count": 88,
     "metadata": {},
     "output_type": "execute_result"
    }
   ],
   "source": [
    "cv_img = np.nan_to_num(depth,0)\n",
    "\n",
    "#depth_copy = depth_copy*255\n",
    "cv2.imwrite('somthing.jpg',cv_img*255)"
   ]
  },
  {
   "cell_type": "code",
   "execution_count": 4,
   "metadata": {},
   "outputs": [
    {
     "name": "stdout",
     "output_type": "stream",
     "text": [
      "[[  nan   nan   nan ... 1006. 1016. 1017.]\n",
      " [  nan   nan   nan ... 1014. 1017. 1017.]\n",
      " [  nan   nan   nan ... 1017. 1017. 1035.]\n",
      " ...\n",
      " [  nan   nan   nan ...   nan   nan   nan]\n",
      " [  nan   nan   nan ...   nan   nan   nan]\n",
      " [  nan   nan   nan ...   nan   nan   nan]]\n"
     ]
    }
   ],
   "source": [
    "depth[depth == 0] = np.nan\n",
    "print(depth)"
   ]
  },
  {
   "cell_type": "code",
   "execution_count": 5,
   "metadata": {},
   "outputs": [
    {
     "name": "stdout",
     "output_type": "stream",
     "text": [
      "[1660.6459  1682.3295  1727.8492  1741.945   1739.9857  1747.2198\n",
      " 1755.2212  1741.3501  1755.4584  1756.5986  1753.3     1749.3846\n",
      " 1747.3932  1752.9276  1755.8778  1759.2998  1755.1532  1750.773\n",
      " 1754.3268  1754.694   1747.7258  1751.2891  1747.3285  1758.8677\n",
      " 1773.5018  1787.4419  1788.7957  1791.2875  1796.9008  1808.4025\n",
      " 1836.6888  1826.3849  1836.3417  1860.1473  1830.6344  1841.741\n",
      " 1834.1583  1853.1622  1849.9758  1848.5736  1834.3185  1831.0881\n",
      " 1834.7539  1821.8053  1834.8806  1839.4735  1836.3121  1861.3622\n",
      " 1840.6648  1857.9658  1849.5743  1871.9238  1875.1904  1889.4894\n",
      " 1884.0565  1882.5725  1883.3314  1862.2307  1849.1044  1841.334\n",
      " 1837.0704  1816.7441  1814.9529  1812.7106  1823.509   1823.902\n",
      " 1814.218   1797.4877  1801.4458  1814.2957  1826.6593  1833.1053\n",
      " 1815.508   1808.4371  1809.4265  1812.4681  1807.8549  1807.6428\n",
      " 1817.0277  1805.116   1808.666   1779.2479  1791.436   1790.516\n",
      " 1792.1409  1773.7285  1751.4581  1736.0942  1707.9521  1670.9458\n",
      " 1659.835   1652.7438  1646.8546  1661.1729  1673.7126  1658.7706\n",
      " 1651.2621  1661.5919  1660.085   1648.7081  1657.4442  1639.1857\n",
      " 1622.4601  1578.1146  1590.1208  1577.2693  1534.1267  1488.0969\n",
      " 1476.3772  1456.6914  1412.3374  1407.848   1359.1896  1349.6128\n",
      " 1341.794   1346.9934  1344.0416  1331.1266  1328.0282  1329.5168\n",
      " 1326.5487  1335.2219  1309.6593  1268.5624  1247.6318  1234.5027\n",
      " 1240.4652  1206.7915  1188.6078  1182.1099  1137.5468  1103.2507\n",
      " 1095.8125  1117.      1141.1589  1129.6433  1134.8651  1186.2179\n",
      " 1214.2012  1209.1482  1219.21    1240.7273  1252.837   1263.3055\n",
      " 1273.4441  1264.9762  1269.1849  1304.6794  1278.6895  1289.2938\n",
      " 1298.4087  1279.2599  1278.293   1255.7365  1230.325   1215.2451\n",
      " 1204.6694  1197.9178  1208.3947  1208.9552  1217.2186  1221.2168\n",
      " 1237.4255  1229.2156  1226.3163  1235.1328  1251.5892  1237.2699\n",
      " 1215.2667  1216.2378  1211.0415  1194.9272  1189.4987  1184.492\n",
      " 1137.5939  1148.5272  1127.346   1131.0442  1106.6322  1080.9663\n",
      " 1071.9636  1076.4849  1073.9055  1087.2449  1107.5088  1092.1982\n",
      " 1097.7379  1138.7906  1122.7306  1162.6381  1123.7263  1117.7854\n",
      " 1129.0051  1082.989   1068.9215  1074.3463  1058.698   1065.2572\n",
      " 1049.3667  1039.9127  1035.7754  1007.28485 1025.8973  1067.3613\n",
      " 1116.6354  1111.2849  1101.0781  1086.9141  1116.1605  1141.4736\n",
      " 1164.7163  1182.2883  1189.8168  1185.0674  1181.3718  1188.4302\n",
      " 1186.9911  1184.8293  1170.4296  1171.2767  1171.7461  1149.982\n",
      " 1132.6842  1139.769   1134.5607  1137.4199  1089.9634  1079.0918\n",
      " 1081.6902  1097.4297  1089.295   1067.4832  1081.481   1069.752\n",
      " 1062.9509  1023.5188  1035.099   1016.447   1016.7275   999.5923\n",
      " 1005.97174 1005.96185  993.2607   995.69135  963.4599   964.4766\n",
      "  950.6947   941.86847  918.49634  925.3774   911.6498   915.49884\n",
      "  898.98645  911.3943   901.19604  920.294    925.5427   941.3834\n",
      "  950.62897  957.1735   939.9347   935.9757   922.2013   899.1595\n",
      "  887.25934  890.9072   870.72455  865.34375  845.17065  818.4975\n",
      "  809.4854   816.89905  806.00507  795.6289   792.56866  778.81323\n",
      "  771.1985   786.4941   795.15765  773.9266   761.4084   766.2605\n",
      "  767.4518   763.32904  759.5233   765.34106  784.4632   779.3505\n",
      "  798.7249   783.4192   783.61707  790.0706   788.2989   794.8477\n",
      "  802.0455   804.1933   800.5579   799.6478   796.7219   797.3511\n",
      "  801.7984   802.3534   785.49335  791.3564   811.5795   842.069\n",
      "  855.27026  862.8266   900.7143   910.8581   938.28784  936.4135\n",
      "  939.35315  913.995    881.2628   913.01575  874.2605   853.75\n",
      "  842.53784  830.3417   811.7059   816.386    814.5961   827.7895\n",
      "  801.90625  783.07446  785.98914  773.4691   760.77216  759.03656\n",
      "  747.8158   738.59155  725.2174   722.597    719.2742   729.0517\n",
      "  722.0536   699.38464  704.       689.6226   701.3674   696.7727\n",
      "  696.4186   680.8182   683.26     679.       670.5111   677.1429\n",
      "  672.3571   662.525    646.6389   659.       655.8788   648.871\n",
      "  635.88464  629.6429   626.5926   650.2778   652.3871   652.7273 ]\n"
     ]
    }
   ],
   "source": [
    "means = np.nanmean(depth, axis=1)\n",
    "print(means)"
   ]
  },
  {
   "cell_type": "code",
   "execution_count": 6,
   "metadata": {},
   "outputs": [
    {
     "name": "stdout",
     "output_type": "stream",
     "text": [
      "[  0 120 240 360]\n",
      "[  0 160 320 480 640]\n"
     ]
    }
   ],
   "source": [
    "width = depth.shape[0]\n",
    "length = depth.shape[1]\n",
    "w_sections = np.linspace(0,width,4)\n",
    "w_sections = np.array(w_sections, dtype=np.uint16)\n",
    "print(w_sections)\n",
    "l_sections = np.linspace(0,length,5)\n",
    "l_sections = np.array(l_sections, dtype=np.uint16)\n",
    "print(l_sections)"
   ]
  },
  {
   "cell_type": "code",
   "execution_count": 39,
   "metadata": {},
   "outputs": [
    {
     "name": "stdout",
     "output_type": "stream",
     "text": [
      "(120, 160)\n"
     ]
    }
   ],
   "source": [
    "d11 = depth[:(w_sections[1]),:(l_sections[1])]\n",
    "print(d11.shape)\n"
   ]
  },
  {
   "cell_type": "code",
   "execution_count": 45,
   "metadata": {},
   "outputs": [
    {
     "name": "stdout",
     "output_type": "stream",
     "text": [
      "[0.5746491  0.5726957  0.5728348  0.57302606 0.574193   0.57454866\n",
      " 0.5737391  0.5741579  0.5743826  0.5748608  0.5752869  0.5747652\n",
      " 0.5749483  0.5753793  0.57575    0.5773217  0.5772759  0.5777586\n",
      " 0.5794211  0.5784741  0.5790431  0.57975656 0.58004344 0.5802105\n",
      " 0.5807895  0.5806522  0.5813017  0.5811062  0.58202606 0.5830351\n",
      " 0.5837069  0.58496493 0.58459485 0.5854435  0.58622605 0.5870965\n",
      " 0.5875929  0.5873913  0.5884737  0.58556634 0.5873947  0.5894649\n",
      " 0.58754784 0.58914655 0.5891842  0.5903684  0.5901293  0.5900263\n",
      " 0.59117115 0.5914123  0.5899099  0.59045875 0.5926754  0.5924821\n",
      " 0.5928839  0.5950261  0.5934956  0.59196293 0.5959159  0.5961875\n",
      " 0.59541965 0.5993091  0.59569025 0.59658617 0.59717387 0.5978696\n",
      " 0.5982956  0.5983707  0.5998761  0.60067856 0.5993839  0.5988018\n",
      " 0.59910345 0.60142857 0.6012696  0.60037833 0.6008947  0.6034602\n",
      " 0.60485584 0.6025455  0.6004911  0.60165215 0.60126317 0.6063036\n",
      " 0.6008125  0.6036363  0.604      0.6042193  0.60873395 0.6050088\n",
      " 0.6047117  0.6063727  0.6058333  0.6087748  0.6073153  0.610211\n",
      " 0.60907274 0.6071215  0.6073704  0.61164814 0.611523   0.61112726\n",
      " 0.6099018  0.60697293 0.6076842  0.6095536  0.61079645 0.6128\n",
      " 0.61215514 0.6108938  0.6115536  0.61330974 0.6143104  0.612625\n",
      " 0.6111593  0.61202604 0.6133043  0.61428946 0.61438596 0.6151081 ]\n",
      "0.08447561645507813\n"
     ]
    }
   ],
   "source": [
    "# take the local average\n",
    "print(np.nanmean(d11, axis=1)/1000)\n",
    "# take the standard deviation\n",
    "print(np.nanstd(d11)/1000)\n"
   ]
  },
  {
   "cell_type": "code",
   "execution_count": 7,
   "metadata": {},
   "outputs": [
    {
     "name": "stdout",
     "output_type": "stream",
     "text": [
      "[[[  nan   nan   nan ... 2032. 2030. 2029.]\n",
      "  [  nan   nan   nan ... 2035. 2032. 2030.]\n",
      "  [  nan   nan   nan ... 2039. 2032. 2031.]\n",
      "  ...\n",
      "  [  nan   nan   nan ...   nan   nan   nan]\n",
      "  [  nan   nan   nan ...   nan   nan   nan]\n",
      "  [  nan   nan   nan ...   nan   nan   nan]]\n",
      "\n",
      " [[2013. 2013. 2012. ...   nan   nan   nan]\n",
      "  [2028. 2020. 2014. ...   nan   nan   nan]\n",
      "  [2028. 2022. 2017. ...   nan   nan   nan]\n",
      "  ...\n",
      "  [2072.   nan   nan ...   nan   nan   nan]\n",
      "  [  nan   nan   nan ...   nan   nan   nan]\n",
      "  [  nan 2051.   nan ...   nan   nan   nan]]\n",
      "\n",
      " [[  nan   nan   nan ... 1327. 1327. 1326.]\n",
      "  [  nan   nan   nan ... 1334. 1331. 1329.]\n",
      "  [2542. 2553.   nan ... 1338. 1336. 1334.]\n",
      "  ...\n",
      "  [  nan   nan   nan ... 1341. 1332. 1326.]\n",
      "  [  nan   nan   nan ... 1342. 1333. 1326.]\n",
      "  [  nan 2094. 2110. ... 1342. 1334. 1327.]]\n",
      "\n",
      " ...\n",
      "\n",
      " [[  nan   nan   nan ... 1607.   nan   nan]\n",
      "  [  nan   nan   nan ... 1616. 1616.   nan]\n",
      "  [  nan   nan   nan ... 1611.   nan 1614.]\n",
      "  ...\n",
      "  [  nan   nan   nan ...   nan   nan   nan]\n",
      "  [  nan   nan   nan ...   nan   nan   nan]\n",
      "  [  nan   nan   nan ...   nan   nan   nan]]\n",
      "\n",
      " [[  nan 1624. 1616. ...  964.  961.  957.]\n",
      "  [  nan   nan   nan ...  964.  958.  954.]\n",
      "  [1612. 1620. 1620. ...  962.  957.  951.]\n",
      "  ...\n",
      "  [  nan   nan   nan ...   nan   nan   nan]\n",
      "  [  nan   nan   nan ...   nan   nan   nan]\n",
      "  [  nan   nan   nan ...   nan   nan   nan]]\n",
      "\n",
      " [[ 950.  946.  939. ...  490.  489.  488.]\n",
      "  [ 948.  943.  937. ...  490.  489.  488.]\n",
      "  [ 947.  941.  936. ...  489.  488.  488.]\n",
      "  ...\n",
      "  [  nan   nan   nan ...   nan   nan   nan]\n",
      "  [  nan   nan   nan ...   nan   nan   nan]\n",
      "  [  nan   nan   nan ...   nan   nan   nan]]]\n",
      "(12, 120, 160)\n",
      "(120, 160)\n"
     ]
    }
   ],
   "source": [
    "tiles = [depth[x:x+int(w_sections[1]),y:y+int(l_sections[1])] for x in range(0,depth.shape[0],int(w_sections[1])) for y in range(0,depth.shape[1],int(l_sections[1]))]\n",
    "tiles_array = np.array(tiles)\n",
    "print(tiles_array)\n",
    "print(tiles_array.shape)\n",
    "print(tiles_array[1].shape)"
   ]
  },
  {
   "cell_type": "code",
   "execution_count": 8,
   "metadata": {},
   "outputs": [
    {
     "name": "stdout",
     "output_type": "stream",
     "text": [
      "[2.0151665  2.1127117  1.972042   0.9810096  1.3629178  1.3386738\n",
      " 1.5950631  0.6967402  0.77518404 0.51754236 1.274724   0.6923399 ]\n",
      "(12,)\n"
     ]
    }
   ],
   "source": [
    "mean_array = np.array([np.nanmean(tiles_array[x]) for x in range(12)])/1000\n",
    "print(mean_array)\n",
    "print(mean_array.shape)"
   ]
  },
  {
   "cell_type": "code",
   "execution_count": 9,
   "metadata": {},
   "outputs": [
    {
     "name": "stdout",
     "output_type": "stream",
     "text": [
      "[0.16820018 0.22813064 0.36919302 0.20987007 0.5143123  0.5347607\n",
      " 0.33851975 0.17051351 0.5563966  0.4113247  0.19960853 0.11815348]\n",
      "(12,)\n"
     ]
    }
   ],
   "source": [
    "std_array = np.array([np.nanstd(tiles_array[x]) for x in range(12)])/1000\n",
    "print(std_array)\n",
    "print(std_array.shape)"
   ]
  },
  {
   "cell_type": "code",
   "execution_count": 10,
   "metadata": {},
   "outputs": [
    {
     "data": {
      "text/plain": [
       "False"
      ]
     },
     "execution_count": 10,
     "metadata": {},
     "output_type": "execute_result"
    }
   ],
   "source": [
    "(std_array[5]<0.02)and(std_array[6]<0.02)and(std_array[9]<0.1)and(std_array[10]<0.2)"
   ]
  },
  {
   "cell_type": "code",
   "execution_count": 24,
   "metadata": {},
   "outputs": [],
   "source": [
    "import matplotlib.pyplot as plt\n",
    "%matplotlib inline\n",
    "img = np.load('/home/nimibot/catkin_ws/src/ros_env_prediction/env_recorder_pkg/bag/2022-10-27-12-42-56/depth/vals/np_values000001.npy')\n",
    "#img = np.array(img, dtype=np.float32)\n",
    "        # Normalize the depth image to fall between 0 (black) and 1 (white)\n",
    "cv2.normalize(img, img, 0, 1, cv2.NORM_MINMAX)\n",
    "        # At this point you can display the result properly:\n",
    "        # cv2.imshow('Depth Image', depth_display_image)\n",
    "        # If you write it as it si, the result will be a image with only 0 to 1 values.\n",
    "        # To actually store in a this a image like the one we are showing its needed\n",
    "        # to reescale the otuput to 255 gray scale.\n",
    "cv2.imwrite('capture_depth.png',img*255)\n",
    "img = cv2.imread('/home/nimibot/catkin_ws/src/ros_env_prediction/env_recorder_pkg/scripts/capture_depth.png')\n"
   ]
  },
  {
   "cell_type": "code",
   "execution_count": 22,
   "metadata": {},
   "outputs": [],
   "source": [
    "def draw_grid(img, grid_shape, color=(0, 255, 0), thickness=1):\n",
    "    h, w, _ = img.shape\n",
    "    rows, cols = grid_shape\n",
    "    dy, dx = h / rows, w / cols\n",
    "\n",
    "    # draw vertical lines\n",
    "    for x in np.linspace(start=dx, stop=w-dx, num=cols-1):\n",
    "        x = int(round(x))\n",
    "        cv2.line(img, (x, 0), (x, h), color=color, thickness=thickness)\n",
    "\n",
    "    # draw horizontal lines\n",
    "    for y in np.linspace(start=dy, stop=h-dy, num=rows-1):\n",
    "        y = int(round(y))\n",
    "        cv2.line(img, (0, y), (w, y), color=color, thickness=thickness)\n",
    "\n",
    "    return img"
   ]
  },
  {
   "cell_type": "code",
   "execution_count": 25,
   "metadata": {},
   "outputs": [
    {
     "data": {
      "text/plain": [
       "True"
      ]
     },
     "execution_count": 25,
     "metadata": {},
     "output_type": "execute_result"
    },
    {
     "data": {
      "image/png": "[encoded data removed]",
      "text/plain": [
       "<Figure size 640x480 with 1 Axes>"
      ]
     },
     "metadata": {},
     "output_type": "display_data"
    }
   ],
   "source": [
    "img_grid = draw_grid(img, (3,4))\n",
    "plt.imshow(img_grid)\n",
    "cv2.imwrite('regions_depth.jpg',img_grid)\n"
   ]
  },
  {
   "cell_type": "code",
   "execution_count": null,
   "metadata": {},
   "outputs": [],
   "source": []
  }
 ],
 "metadata": {
  "kernelspec": {
   "display_name": "Python 3.7.5 ('py3.7_venv')",
   "language": "python",
   "name": "python3"
  },
  "language_info": {
   "codemirror_mode": {
    "name": "ipython",
    "version": 3
   },
   "file_extension": ".py",
   "mimetype": "text/x-python",
   "name": "python",
   "nbconvert_exporter": "python",
   "pygments_lexer": "ipython3",
   "version": "3.7.5"
  },
  "orig_nbformat": 4,
  "vscode": {
   "interpreter": {
    "hash": "dc2c9e41bc53a896a2f25abdf5b6f439414da1f2108a3015ca704573f5c62be5"
   }
  }
 },
 "nbformat": 4,
 "nbformat_minor": 2
}
