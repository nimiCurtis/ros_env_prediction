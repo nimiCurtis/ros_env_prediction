{
 "cells": [
  {
   "cell_type": "code",
   "execution_count": 3,
   "metadata": {},
   "outputs": [
    {
     "name": "stdout",
     "output_type": "stream",
     "text": [
      "[INFO]  Data folder /home/nimibot/catkin_ws/src/ros_env_prediction/env_recorder_pkg/bag/2022-10-27-12-42-56 already exists. Not creating.\n"
     ]
    }
   ],
   "source": [
    "import cv2\n",
    "import numpy as np\n",
    "import pandas as pd\n",
    "import matplotlib.pyplot as plt\n",
    "from bag_reader.bag_reader import READER\n",
    "from bag_processor.bag_processor import DepthProcessor\n",
    "\n",
    "\n",
    "bag_read = READER('/home/nimibot/catkin_ws/src/ros_env_prediction/env_recorder_pkg/bag/2022-10-27-12-42-56.bag')\n",
    "bag_read.read()\n",
    "\n",
    "dp = DepthProcessor()\n",
    "feat_df = dp.get_features_df(bag_read.depth_df)\n",
    "\n",
    "class AlgoRunner:\n",
    "    def __init__(self,bag_obj):\n",
    "        self.bag_obj = bag_obj\n",
    "        \n",
    "        pass\n",
    "\n",
    "    def __len__(self):\n",
    "        return len(self.bag_obj.depth_df)\n",
    "\n",
    "    def get_current_step(self, step):\n",
    "        data = {}\n",
    "        data[\"depth\"] = cv2.imread(bag_read.depth_df.frame_path[step])\n",
    "        data[\"rgb\"] = cv2.imread(bag_read.rgb_df.frame_path[step])\n",
    "        \n",
    "        return data\n",
    "\n",
    "    def detect_stairs_rgb(self,img_depth):\n",
    "\n",
    "        #gray = cv2.cvtColor(img_depth,cv2.COLOR_BGR2GRAY)\n",
    "        blured = cv2.GaussianBlur(img_depth,(5,5),0,0)\n",
    "        edges = cv2.Canny(blured,20,150,apertureSize = 3)\n",
    "        minLineLength = 100\n",
    "        maxLineGap = 10\n",
    "        lines = cv2.HoughLinesP(edges,1,np.pi/180,20,minLineLength,maxLineGap)\n",
    "        return lines\n",
    "\n",
    "\n",
    "    def run(self):\n",
    "        \n",
    "        \n",
    "        algo_buffer = []\n",
    "        \n",
    "        for step in range(len(self)):\n",
    "            out_data = {}\n",
    "\n",
    "            in_data = self.get_current_step(step)\n",
    "            img_grid = dp.split_to_regions(in_data[\"depth\"])\n",
    "            mean_grid = dp.get_regions_mean(img_grid)\n",
    "            std_grid = dp.get_regions_std(img_grid)\n",
    "            lines = self.detect_stairs_rgb(in_data[\"depth\"])\n",
    "            \n",
    "            out_data[\"lines\"], out_data[\"mean\"], out_data[\"std\"] = lines, mean_grid, std_grid\n",
    "\n",
    "            self.vis_step(in_data,out_data)\n",
    "            algo_buffer.append(out_data)\n",
    "        \n",
    "        self.save_runner(algo_buffer)\n",
    "\n",
    "    def save_runner(self,algo_buffer):\n",
    "        pass\n",
    "\n",
    "    def vis_step(self,in_data,out_data):\n",
    "        if out_data[\"lines\"] is not None:\n",
    "            for line in out_data[\"lines\"]:\n",
    "                for x1,y1,x2,y2 in line:\n",
    "                    m = (y1-y2)/(x1-x2)\n",
    "                    \n",
    "                    if np.rad2deg(np.arctan(m))<25 and np.rad2deg(np.arctan(m))>-25 : \n",
    "                        #print(np.rad2deg(np.arctan(m)))\n",
    "                        cv2.line(in_data[\"depth\"],(x1,y1),(x2,y2),(0,255,0),2)\n",
    "\n",
    "            cv2.imshow(\"depth\", in_data[\"depth\"])\n",
    "            cv2.waitKey(0)\n",
    "        pass\n",
    "\n",
    "algo_runner = AlgoRunner(bag_read)\n"
   ]
  },
  {
   "cell_type": "code",
   "execution_count": 4,
   "metadata": {},
   "outputs": [
    {
     "data": {
      "text/plain": [
       "122"
      ]
     },
     "execution_count": 4,
     "metadata": {},
     "output_type": "execute_result"
    }
   ],
   "source": [
    "len(algo_runner)"
   ]
  },
  {
   "cell_type": "code",
   "execution_count": 5,
   "metadata": {},
   "outputs": [
    {
     "name": "stderr",
     "output_type": "stream",
     "text": [
      "/home/nimibot/py3.7_ws/py3.7_venv/lib/python3.7/site-packages/ipykernel_launcher.py:70: RuntimeWarning: divide by zero encountered in int_scalars\n"
     ]
    }
   ],
   "source": [
    "algo_runner.run()"
   ]
  }
 ],
 "metadata": {
  "kernelspec": {
   "display_name": "Python 3.7.5 ('py3.7_venv')",
   "language": "python",
   "name": "python3"
  },
  "language_info": {
   "codemirror_mode": {
    "name": "ipython",
    "version": 3
   },
   "file_extension": ".py",
   "mimetype": "text/x-python",
   "name": "python",
   "nbconvert_exporter": "python",
   "pygments_lexer": "ipython3",
   "version": "3.7.5"
  },
  "orig_nbformat": 4,
  "vscode": {
   "interpreter": {
    "hash": "a3f62984b557dfebb9a6ed470f0035b11ea8662d92a56e2f92ed218ee40b338e"
   }
  }
 },
 "nbformat": 4,
 "nbformat_minor": 2
}
